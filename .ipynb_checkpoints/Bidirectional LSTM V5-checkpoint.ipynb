{
 "cells": [
  {
   "cell_type": "markdown",
   "metadata": {},
   "source": [
    "## Implementation of a Bidirectional LSTM for Text Multilabel Text Classification"
   ]
  },
  {
   "cell_type": "markdown",
   "metadata": {},
   "source": [
    "### Import Libraries:"
   ]
  },
  {
   "cell_type": "code",
   "execution_count": 28,
   "metadata": {},
   "outputs": [
    {
     "name": "stdout",
     "output_type": "stream",
     "text": [
      "2.3.1\n"
     ]
    }
   ],
   "source": [
    "import pandas as pd\n",
    "import numpy as np\n",
    "\n",
    "import os\n",
    "import re\n",
    "\n",
    "import matplotlib.pyplot as plt\n",
    "import seaborn as sns\n",
    "sns.set_style(\"darkgrid\")\n",
    "\n",
    "import keras\n",
    "from keras import initializers, regularizers, constraints, optimizers, layers, callbacks\n",
    "\n",
    "from keras.preprocessing import text, sequence\n",
    "\n",
    "from keras.layers import Dense,Input,LSTM,Bidirectional,Activation,Conv1D,GRU\n",
    "from keras.layers import Dropout,Embedding,GlobalMaxPooling1D, MaxPooling1D, Add, Flatten\n",
    "from keras.layers import GlobalAveragePooling1D, GlobalMaxPooling1D, concatenate, SpatialDropout1D\n",
    "\n",
    "from keras.callbacks import EarlyStopping,ModelCheckpoint\n",
    "from keras.models import Model\n",
    "from keras.optimizers import Adam\n",
    "from keras.callbacks import Callback\n",
    "\n",
    "from sklearn.model_selection import train_test_split\n",
    "from sklearn.metrics import accuracy_score\n",
    "from sklearn.metrics import roc_auc_score\n",
    "\n",
    "print(keras.__version__)"
   ]
  },
  {
   "cell_type": "markdown",
   "metadata": {},
   "source": [
    "### Import Data:"
   ]
  },
  {
   "cell_type": "code",
   "execution_count": 29,
   "metadata": {},
   "outputs": [],
   "source": [
    "df_train = pd.read_csv('./data/train.csv').sample(frac = 0.1)\n",
    "df_test = pd.read_csv('./data/test.csv').sample(frac = 0.1)\n",
    "#df_labels = pd.read_csv('./data/test_labels.csv')"
   ]
  },
  {
   "cell_type": "code",
   "execution_count": 30,
   "metadata": {},
   "outputs": [
    {
     "name": "stdout",
     "output_type": "stream",
     "text": [
      "(15957, 8)\n",
      "(15316, 2)\n"
     ]
    }
   ],
   "source": [
    "print(df_train.shape)\n",
    "print(df_test.shape)"
   ]
  },
  {
   "cell_type": "markdown",
   "metadata": {},
   "source": [
    "### Data Check:"
   ]
  },
  {
   "cell_type": "code",
   "execution_count": 31,
   "metadata": {
    "scrolled": true
   },
   "outputs": [
    {
     "data": {
      "text/html": [
       "<div>\n",
       "<style scoped>\n",
       "    .dataframe tbody tr th:only-of-type {\n",
       "        vertical-align: middle;\n",
       "    }\n",
       "\n",
       "    .dataframe tbody tr th {\n",
       "        vertical-align: top;\n",
       "    }\n",
       "\n",
       "    .dataframe thead th {\n",
       "        text-align: right;\n",
       "    }\n",
       "</style>\n",
       "<table border=\"1\" class=\"dataframe\">\n",
       "  <thead>\n",
       "    <tr style=\"text-align: right;\">\n",
       "      <th></th>\n",
       "      <th>id</th>\n",
       "      <th>comment_text</th>\n",
       "      <th>toxic</th>\n",
       "      <th>severe_toxic</th>\n",
       "      <th>obscene</th>\n",
       "      <th>threat</th>\n",
       "      <th>insult</th>\n",
       "      <th>identity_hate</th>\n",
       "    </tr>\n",
       "  </thead>\n",
       "  <tbody>\n",
       "    <tr>\n",
       "      <th>57511</th>\n",
       "      <td>99d23b96c06773bd</td>\n",
       "      <td>So, that couple of people are completely wrong...</td>\n",
       "      <td>0</td>\n",
       "      <td>0</td>\n",
       "      <td>0</td>\n",
       "      <td>0</td>\n",
       "      <td>0</td>\n",
       "      <td>0</td>\n",
       "    </tr>\n",
       "    <tr>\n",
       "      <th>33231</th>\n",
       "      <td>587e3f8722f00824</td>\n",
       "      <td>\"\\nThe calendar repeats so any one day in the ...</td>\n",
       "      <td>0</td>\n",
       "      <td>0</td>\n",
       "      <td>0</td>\n",
       "      <td>0</td>\n",
       "      <td>0</td>\n",
       "      <td>0</td>\n",
       "    </tr>\n",
       "    <tr>\n",
       "      <th>1904</th>\n",
       "      <td>052b1ed37789460f</td>\n",
       "      <td>Hi Robert..hv asked the author to give a prope...</td>\n",
       "      <td>0</td>\n",
       "      <td>0</td>\n",
       "      <td>0</td>\n",
       "      <td>0</td>\n",
       "      <td>0</td>\n",
       "      <td>0</td>\n",
       "    </tr>\n",
       "    <tr>\n",
       "      <th>143364</th>\n",
       "      <td>feb069c98caaeb17</td>\n",
       "      <td>REDIRECT Talk:The Last Battle (book)</td>\n",
       "      <td>0</td>\n",
       "      <td>0</td>\n",
       "      <td>0</td>\n",
       "      <td>0</td>\n",
       "      <td>0</td>\n",
       "      <td>0</td>\n",
       "    </tr>\n",
       "    <tr>\n",
       "      <th>48744</th>\n",
       "      <td>8253b655fafd9375</td>\n",
       "      <td>Overt bias?  Because they aren't representing ...</td>\n",
       "      <td>0</td>\n",
       "      <td>0</td>\n",
       "      <td>0</td>\n",
       "      <td>0</td>\n",
       "      <td>0</td>\n",
       "      <td>0</td>\n",
       "    </tr>\n",
       "  </tbody>\n",
       "</table>\n",
       "</div>"
      ],
      "text/plain": [
       "                      id                                       comment_text  \\\n",
       "57511   99d23b96c06773bd  So, that couple of people are completely wrong...   \n",
       "33231   587e3f8722f00824  \"\\nThe calendar repeats so any one day in the ...   \n",
       "1904    052b1ed37789460f  Hi Robert..hv asked the author to give a prope...   \n",
       "143364  feb069c98caaeb17               REDIRECT Talk:The Last Battle (book)   \n",
       "48744   8253b655fafd9375  Overt bias?  Because they aren't representing ...   \n",
       "\n",
       "        toxic  severe_toxic  obscene  threat  insult  identity_hate  \n",
       "57511       0             0        0       0       0              0  \n",
       "33231       0             0        0       0       0              0  \n",
       "1904        0             0        0       0       0              0  \n",
       "143364      0             0        0       0       0              0  \n",
       "48744       0             0        0       0       0              0  "
      ]
     },
     "execution_count": 31,
     "metadata": {},
     "output_type": "execute_result"
    }
   ],
   "source": [
    "df_train.head(5)"
   ]
  },
  {
   "cell_type": "code",
   "execution_count": 32,
   "metadata": {},
   "outputs": [
    {
     "data": {
      "text/html": [
       "<div>\n",
       "<style scoped>\n",
       "    .dataframe tbody tr th:only-of-type {\n",
       "        vertical-align: middle;\n",
       "    }\n",
       "\n",
       "    .dataframe tbody tr th {\n",
       "        vertical-align: top;\n",
       "    }\n",
       "\n",
       "    .dataframe thead th {\n",
       "        text-align: right;\n",
       "    }\n",
       "</style>\n",
       "<table border=\"1\" class=\"dataframe\">\n",
       "  <thead>\n",
       "    <tr style=\"text-align: right;\">\n",
       "      <th></th>\n",
       "      <th>id</th>\n",
       "      <th>comment_text</th>\n",
       "    </tr>\n",
       "  </thead>\n",
       "  <tbody>\n",
       "    <tr>\n",
       "      <th>39986</th>\n",
       "      <td>425f465f79b5dde3</td>\n",
       "      <td>: This one, too. |</td>\n",
       "    </tr>\n",
       "    <tr>\n",
       "      <th>118746</th>\n",
       "      <td>c6356bb7389a80f8</td>\n",
       "      <td>Awesome list this. Wish there were similar com...</td>\n",
       "    </tr>\n",
       "    <tr>\n",
       "      <th>150550</th>\n",
       "      <td>fbaa28075dfff599</td>\n",
       "      <td>== Article is pretty good == \\n I've read the ...</td>\n",
       "    </tr>\n",
       "    <tr>\n",
       "      <th>23007</th>\n",
       "      <td>26659b4543581d89</td>\n",
       "      <td>::I agree, but the suggestion that one had to ...</td>\n",
       "    </tr>\n",
       "    <tr>\n",
       "      <th>27257</th>\n",
       "      <td>2d64e1b5576a58d3</td>\n",
       "      <td>Hey why din't you just shut up Pjacobi you faggot</td>\n",
       "    </tr>\n",
       "  </tbody>\n",
       "</table>\n",
       "</div>"
      ],
      "text/plain": [
       "                      id                                       comment_text\n",
       "39986   425f465f79b5dde3                                 : This one, too. |\n",
       "118746  c6356bb7389a80f8  Awesome list this. Wish there were similar com...\n",
       "150550  fbaa28075dfff599  == Article is pretty good == \\n I've read the ...\n",
       "23007   26659b4543581d89  ::I agree, but the suggestion that one had to ...\n",
       "27257   2d64e1b5576a58d3  Hey why din't you just shut up Pjacobi you faggot"
      ]
     },
     "execution_count": 32,
     "metadata": {},
     "output_type": "execute_result"
    }
   ],
   "source": [
    "df_test.head(5)"
   ]
  },
  {
   "cell_type": "code",
   "execution_count": 33,
   "metadata": {},
   "outputs": [
    {
     "data": {
      "text/html": [
       "<div>\n",
       "<style scoped>\n",
       "    .dataframe tbody tr th:only-of-type {\n",
       "        vertical-align: middle;\n",
       "    }\n",
       "\n",
       "    .dataframe tbody tr th {\n",
       "        vertical-align: top;\n",
       "    }\n",
       "\n",
       "    .dataframe thead th {\n",
       "        text-align: right;\n",
       "    }\n",
       "</style>\n",
       "<table border=\"1\" class=\"dataframe\">\n",
       "  <thead>\n",
       "    <tr style=\"text-align: right;\">\n",
       "      <th></th>\n",
       "      <th>toxic</th>\n",
       "      <th>severe_toxic</th>\n",
       "      <th>obscene</th>\n",
       "      <th>threat</th>\n",
       "      <th>insult</th>\n",
       "      <th>identity_hate</th>\n",
       "    </tr>\n",
       "  </thead>\n",
       "  <tbody>\n",
       "    <tr>\n",
       "      <th>count</th>\n",
       "      <td>15957.000000</td>\n",
       "      <td>15957.000000</td>\n",
       "      <td>15957.000000</td>\n",
       "      <td>15957.000000</td>\n",
       "      <td>15957.000000</td>\n",
       "      <td>15957.000000</td>\n",
       "    </tr>\n",
       "    <tr>\n",
       "      <th>mean</th>\n",
       "      <td>0.096823</td>\n",
       "      <td>0.010591</td>\n",
       "      <td>0.055399</td>\n",
       "      <td>0.003697</td>\n",
       "      <td>0.052892</td>\n",
       "      <td>0.008836</td>\n",
       "    </tr>\n",
       "    <tr>\n",
       "      <th>std</th>\n",
       "      <td>0.295725</td>\n",
       "      <td>0.102369</td>\n",
       "      <td>0.228764</td>\n",
       "      <td>0.060696</td>\n",
       "      <td>0.223825</td>\n",
       "      <td>0.093588</td>\n",
       "    </tr>\n",
       "    <tr>\n",
       "      <th>min</th>\n",
       "      <td>0.000000</td>\n",
       "      <td>0.000000</td>\n",
       "      <td>0.000000</td>\n",
       "      <td>0.000000</td>\n",
       "      <td>0.000000</td>\n",
       "      <td>0.000000</td>\n",
       "    </tr>\n",
       "    <tr>\n",
       "      <th>25%</th>\n",
       "      <td>0.000000</td>\n",
       "      <td>0.000000</td>\n",
       "      <td>0.000000</td>\n",
       "      <td>0.000000</td>\n",
       "      <td>0.000000</td>\n",
       "      <td>0.000000</td>\n",
       "    </tr>\n",
       "    <tr>\n",
       "      <th>50%</th>\n",
       "      <td>0.000000</td>\n",
       "      <td>0.000000</td>\n",
       "      <td>0.000000</td>\n",
       "      <td>0.000000</td>\n",
       "      <td>0.000000</td>\n",
       "      <td>0.000000</td>\n",
       "    </tr>\n",
       "    <tr>\n",
       "      <th>75%</th>\n",
       "      <td>0.000000</td>\n",
       "      <td>0.000000</td>\n",
       "      <td>0.000000</td>\n",
       "      <td>0.000000</td>\n",
       "      <td>0.000000</td>\n",
       "      <td>0.000000</td>\n",
       "    </tr>\n",
       "    <tr>\n",
       "      <th>max</th>\n",
       "      <td>1.000000</td>\n",
       "      <td>1.000000</td>\n",
       "      <td>1.000000</td>\n",
       "      <td>1.000000</td>\n",
       "      <td>1.000000</td>\n",
       "      <td>1.000000</td>\n",
       "    </tr>\n",
       "  </tbody>\n",
       "</table>\n",
       "</div>"
      ],
      "text/plain": [
       "              toxic  severe_toxic       obscene        threat        insult  \\\n",
       "count  15957.000000  15957.000000  15957.000000  15957.000000  15957.000000   \n",
       "mean       0.096823      0.010591      0.055399      0.003697      0.052892   \n",
       "std        0.295725      0.102369      0.228764      0.060696      0.223825   \n",
       "min        0.000000      0.000000      0.000000      0.000000      0.000000   \n",
       "25%        0.000000      0.000000      0.000000      0.000000      0.000000   \n",
       "50%        0.000000      0.000000      0.000000      0.000000      0.000000   \n",
       "75%        0.000000      0.000000      0.000000      0.000000      0.000000   \n",
       "max        1.000000      1.000000      1.000000      1.000000      1.000000   \n",
       "\n",
       "       identity_hate  \n",
       "count   15957.000000  \n",
       "mean        0.008836  \n",
       "std         0.093588  \n",
       "min         0.000000  \n",
       "25%         0.000000  \n",
       "50%         0.000000  \n",
       "75%         0.000000  \n",
       "max         1.000000  "
      ]
     },
     "execution_count": 33,
     "metadata": {},
     "output_type": "execute_result"
    }
   ],
   "source": [
    "df_train.describe()"
   ]
  },
  {
   "cell_type": "code",
   "execution_count": 34,
   "metadata": {},
   "outputs": [
    {
     "data": {
      "text/plain": [
       "id               0\n",
       "comment_text     0\n",
       "toxic            0\n",
       "severe_toxic     0\n",
       "obscene          0\n",
       "threat           0\n",
       "insult           0\n",
       "identity_hate    0\n",
       "dtype: int64"
      ]
     },
     "execution_count": 34,
     "metadata": {},
     "output_type": "execute_result"
    }
   ],
   "source": [
    "df_train.isna().sum()"
   ]
  },
  {
   "cell_type": "markdown",
   "metadata": {},
   "source": [
    "### Clean Data:"
   ]
  },
  {
   "cell_type": "code",
   "execution_count": 35,
   "metadata": {},
   "outputs": [],
   "source": [
    "df_train[\"comment_text\"].fillna(\"fillna\")\n",
    "df_test[\"comment_text\"].fillna(\"fillna\")\n",
    "\n",
    "X_train = df_train[\"comment_text\"].str.lower()\n",
    "y_train = df_train[[\"toxic\", \"severe_toxic\", \"obscene\", \"threat\", \"insult\", \"identity_hate\"]].values\n",
    "\n",
    "X_test = df_test[\"comment_text\"].str.lower()"
   ]
  },
  {
   "cell_type": "code",
   "execution_count": 36,
   "metadata": {},
   "outputs": [
    {
     "data": {
      "text/html": [
       "<div>\n",
       "<style scoped>\n",
       "    .dataframe tbody tr th:only-of-type {\n",
       "        vertical-align: middle;\n",
       "    }\n",
       "\n",
       "    .dataframe tbody tr th {\n",
       "        vertical-align: top;\n",
       "    }\n",
       "\n",
       "    .dataframe thead th {\n",
       "        text-align: right;\n",
       "    }\n",
       "</style>\n",
       "<table border=\"1\" class=\"dataframe\">\n",
       "  <thead>\n",
       "    <tr style=\"text-align: right;\">\n",
       "      <th></th>\n",
       "      <th>id</th>\n",
       "      <th>comment_text</th>\n",
       "    </tr>\n",
       "  </thead>\n",
       "  <tbody>\n",
       "    <tr>\n",
       "      <th>39986</th>\n",
       "      <td>425f465f79b5dde3</td>\n",
       "      <td>: This one, too. |</td>\n",
       "    </tr>\n",
       "    <tr>\n",
       "      <th>118746</th>\n",
       "      <td>c6356bb7389a80f8</td>\n",
       "      <td>Awesome list this. Wish there were similar com...</td>\n",
       "    </tr>\n",
       "    <tr>\n",
       "      <th>150550</th>\n",
       "      <td>fbaa28075dfff599</td>\n",
       "      <td>== Article is pretty good == \\n I've read the ...</td>\n",
       "    </tr>\n",
       "    <tr>\n",
       "      <th>23007</th>\n",
       "      <td>26659b4543581d89</td>\n",
       "      <td>::I agree, but the suggestion that one had to ...</td>\n",
       "    </tr>\n",
       "    <tr>\n",
       "      <th>27257</th>\n",
       "      <td>2d64e1b5576a58d3</td>\n",
       "      <td>Hey why din't you just shut up Pjacobi you faggot</td>\n",
       "    </tr>\n",
       "  </tbody>\n",
       "</table>\n",
       "</div>"
      ],
      "text/plain": [
       "                      id                                       comment_text\n",
       "39986   425f465f79b5dde3                                 : This one, too. |\n",
       "118746  c6356bb7389a80f8  Awesome list this. Wish there were similar com...\n",
       "150550  fbaa28075dfff599  == Article is pretty good == \\n I've read the ...\n",
       "23007   26659b4543581d89  ::I agree, but the suggestion that one had to ...\n",
       "27257   2d64e1b5576a58d3  Hey why din't you just shut up Pjacobi you faggot"
      ]
     },
     "execution_count": 36,
     "metadata": {},
     "output_type": "execute_result"
    }
   ],
   "source": [
    "df_test.head(5)"
   ]
  },
  {
   "cell_type": "code",
   "execution_count": 37,
   "metadata": {},
   "outputs": [
    {
     "data": {
      "text/plain": [
       "57511     so, that couple of people are completely wrong...\n",
       "33231     \"\\nthe calendar repeats so any one day in the ...\n",
       "1904      hi robert..hv asked the author to give a prope...\n",
       "143364                 redirect talk:the last battle (book)\n",
       "48744     overt bias?  because they aren't representing ...\n",
       "Name: comment_text, dtype: object"
      ]
     },
     "execution_count": 37,
     "metadata": {},
     "output_type": "execute_result"
    }
   ],
   "source": [
    "X_train.head(5)"
   ]
  },
  {
   "cell_type": "code",
   "execution_count": 38,
   "metadata": {},
   "outputs": [
    {
     "data": {
      "text/plain": [
       "array([[0, 0, 0, 0, 0, 0],\n",
       "       [0, 0, 0, 0, 0, 0],\n",
       "       [0, 0, 0, 0, 0, 0],\n",
       "       ...,\n",
       "       [0, 0, 0, 0, 0, 0],\n",
       "       [0, 0, 0, 0, 0, 0],\n",
       "       [0, 0, 0, 0, 0, 0]], dtype=int64)"
      ]
     },
     "execution_count": 38,
     "metadata": {},
     "output_type": "execute_result"
    }
   ],
   "source": [
    "y_train"
   ]
  },
  {
   "cell_type": "markdown",
   "metadata": {},
   "source": [
    "### Embedding Settings:"
   ]
  },
  {
   "cell_type": "code",
   "execution_count": 52,
   "metadata": {},
   "outputs": [],
   "source": [
    "max_features=86615\n",
    "max_len=150\n",
    "sequence_input = Input(shape=(max_len, ))\n",
    "embed_size=300"
   ]
  },
  {
   "cell_type": "markdown",
   "metadata": {},
   "source": [
    "### Pad Sequences:"
   ]
  },
  {
   "cell_type": "code",
   "execution_count": 40,
   "metadata": {},
   "outputs": [],
   "source": [
    "tokenizer = text.Tokenizer(\n",
    "                           num_words = max_features,\n",
    "                           lower = True\n",
    "                          )\n",
    "\n",
    "tokenizer.fit_on_texts(list(X_train)+list(X_test))\n",
    "\n",
    "X_train=tokenizer.texts_to_sequences(X_train)\n",
    "X_test=tokenizer.texts_to_sequences(X_test)\n",
    "\n",
    "X_train=sequence.pad_sequences(X_train,maxlen=max_len)\n",
    "X_test=sequence.pad_sequences(X_test,maxlen=max_len)"
   ]
  },
  {
   "cell_type": "markdown",
   "metadata": {},
   "source": [
    "### Prepare GLOVE Embeddings:"
   ]
  },
  {
   "cell_type": "code",
   "execution_count": 13,
   "metadata": {},
   "outputs": [],
   "source": [
    "glove_6B_50d = \"./utils/glove/glove.6B.050d.txt\"\n",
    "glove_6B_100d = \"./utils/glove/glove.6B.100d.txt\"\n",
    "glove_6B_200d = \"./utils/glove/glove.6B.200d.txt\"\n",
    "glove_6B_300d = \"./utils/glove/glove.6B.300d.txt\"\n",
    "glove_42B_300d = \"./utils/glove/glove.42B.300d.txt\"\n",
    "glove_840B_300d = \"./utils/glove/glove.840B.300d.txt\"\n",
    "\n",
    "glove_6B_50d_index = {}\n",
    "glove_6B_100d_index = {}\n",
    "glove_6B_200d_index = {}\n",
    "glove_6B_300d_index = {}\n",
    "glove_42B_300d_index = {}\n",
    "glove_840B_300d_index = {}\n",
    "\n",
    "with open(glove_6B_50d, encoding='utf8') as file:\n",
    "    for line in file:\n",
    "        values = line.rstrip().rsplit(' ')\n",
    "        word = values[0]\n",
    "        coefs = np.asarray(values[1:], dtype='float32')\n",
    "        glove_6B_50d_index[word] = coefs\n",
    "        \n",
    "with open(glove_6B_100d, encoding='utf8') as file:\n",
    "    for line in file:\n",
    "        values = line.rstrip().rsplit(' ')\n",
    "        word = values[0]\n",
    "        coefs = np.asarray(values[1:], dtype='float32')\n",
    "        glove_6B_100d_index[word] = coefs\n",
    "\n",
    "with open(glove_6B_200d, encoding='utf8') as file:\n",
    "    for line in file:\n",
    "        values = line.rstrip().rsplit(' ')\n",
    "        word = values[0]\n",
    "        coefs = np.asarray(values[1:], dtype='float32')\n",
    "        glove_6B_200d_index[word] = coefs\n",
    "\n",
    "with open(glove_6B_300d, encoding='utf8') as file:\n",
    "    for line in file:\n",
    "        values = line.rstrip().rsplit(' ')\n",
    "        word = values[0]\n",
    "        coefs = np.asarray(values[1:], dtype='float32')\n",
    "        glove_6B_300d_index[word] = coefs\n",
    "        \n",
    "# with open(glove_42B_300d, encoding='utf8') as file:\n",
    "#     for line in file:\n",
    "#         values = line.rstrip().rsplit(' ')\n",
    "#         word = values[0]\n",
    "#         coefs = np.asarray(values[1:], dtype='float32')\n",
    "#         glove_42B_300d_index[word] = coefs\n",
    "        \n",
    "with open(glove_840B_300d, encoding='utf8') as file:\n",
    "    for line in file:\n",
    "        values = line.rstrip().rsplit(' ')\n",
    "        word = values[0]\n",
    "        coefs = np.asarray(values[1:], dtype='float32')\n",
    "        glove_840B_300d_index[word] = coefs"
   ]
  },
  {
   "cell_type": "code",
   "execution_count": 41,
   "metadata": {
    "scrolled": true
   },
   "outputs": [
    {
     "name": "stdout",
     "output_type": "stream",
     "text": [
      "400000\n",
      "400000\n",
      "400000\n",
      "400000\n",
      "0\n",
      "2196016\n"
     ]
    }
   ],
   "source": [
    "print(len(glove_6B_50d_index))\n",
    "print(len(glove_6B_100d_index))\n",
    "print(len(glove_6B_200d_index))\n",
    "print(len(glove_6B_300d_index))\n",
    "print(len(glove_42B_300d_index))\n",
    "print(len(glove_840B_300d_index))"
   ]
  },
  {
   "cell_type": "markdown",
   "metadata": {},
   "source": [
    "### Prepare Embedding Matrix:"
   ]
  },
  {
   "cell_type": "code",
   "execution_count": 42,
   "metadata": {},
   "outputs": [],
   "source": [
    "word_index = tokenizer.word_index\n",
    "#prepare embedding matrix\n",
    "num_words = min(max_features, len(word_index) + 1)\n",
    "embedding_matrix = np.zeros((num_words, embed_size))\n",
    "for word, i in word_index.items():\n",
    "    if i >= max_features:\n",
    "        continue\n",
    "    embedding_vector = glove_840B_300d_index.get(word)\n",
    "    if embedding_vector is not None:\n",
    "        # words not found in embedding index will be all-zeros.\n",
    "        embedding_matrix[i] = embedding_vector"
   ]
  },
  {
   "cell_type": "markdown",
   "metadata": {},
   "source": [
    "### Prepare Bidirectional LSTM"
   ]
  },
  {
   "cell_type": "code",
   "execution_count": 53,
   "metadata": {},
   "outputs": [],
   "source": [
    "layer = Embedding(max_features, \n",
    "                  embed_size, \n",
    "                  weights=[embedding_matrix], \n",
    "                  trainable = False\n",
    "                  )(sequence_input)\n",
    "\n",
    "layer = SpatialDropout1D(0.2)(layer)\n",
    "\n",
    "layer = Bidirectional(GRU(128, \n",
    "                          return_sequences=True, \n",
    "                          dropout=0.1, \n",
    "                          recurrent_dropout=0.1)\n",
    "                      )(layer)\n",
    "\n",
    "layer = Conv1D(64, kernel_size = 3, \n",
    "               padding = \"valid\", \n",
    "               kernel_initializer = \"glorot_uniform\"\n",
    "               )(layer)\n",
    "\n",
    "avg_pool = GlobalAveragePooling1D()(layer)\n",
    "\n",
    "max_pool = GlobalMaxPooling1D()(layer)\n",
    "\n",
    "layer = concatenate([avg_pool, max_pool]) \n",
    "\n",
    "preds = Dense(6, activation=\"sigmoid\")(layer)\n",
    "\n",
    "model = Model(sequence_input, preds)\n",
    "\n",
    "model.compile(loss='binary_crossentropy',optimizer=Adam(lr=1e-3),metrics=['accuracy'])"
   ]
  },
  {
   "cell_type": "code",
   "execution_count": 69,
   "metadata": {},
   "outputs": [
    {
     "name": "stdout",
     "output_type": "stream",
     "text": [
      "Model: \"model_3\"\n",
      "__________________________________________________________________________________________________\n",
      "Layer (type)                    Output Shape         Param #     Connected to                     \n",
      "==================================================================================================\n",
      "input_7 (InputLayer)            (None, 150)          0                                            \n",
      "__________________________________________________________________________________________________\n",
      "embedding_8 (Embedding)         (None, 150, 300)     25984500    input_7[0][0]                    \n",
      "__________________________________________________________________________________________________\n",
      "spatial_dropout1d_3 (SpatialDro (None, 150, 300)     0           embedding_8[0][0]                \n",
      "__________________________________________________________________________________________________\n",
      "bidirectional_3 (Bidirectional) (None, 150, 256)     329472      spatial_dropout1d_3[0][0]        \n",
      "__________________________________________________________________________________________________\n",
      "conv1d_3 (Conv1D)               (None, 148, 64)      49216       bidirectional_3[0][0]            \n",
      "__________________________________________________________________________________________________\n",
      "global_average_pooling1d_3 (Glo (None, 64)           0           conv1d_3[0][0]                   \n",
      "__________________________________________________________________________________________________\n",
      "global_max_pooling1d_3 (GlobalM (None, 64)           0           conv1d_3[0][0]                   \n",
      "__________________________________________________________________________________________________\n",
      "concatenate_3 (Concatenate)     (None, 128)          0           global_average_pooling1d_3[0][0] \n",
      "                                                                 global_max_pooling1d_3[0][0]     \n",
      "__________________________________________________________________________________________________\n",
      "dense_3 (Dense)                 (None, 6)            774         concatenate_3[0][0]              \n",
      "==================================================================================================\n",
      "Total params: 26,363,962\n",
      "Trainable params: 379,462\n",
      "Non-trainable params: 25,984,500\n",
      "__________________________________________________________________________________________________\n"
     ]
    }
   ],
   "source": [
    "model.summary()"
   ]
  },
  {
   "cell_type": "markdown",
   "metadata": {},
   "source": [
    "### Split Training, Testing, and Validation Data:"
   ]
  },
  {
   "cell_type": "code",
   "execution_count": 54,
   "metadata": {},
   "outputs": [],
   "source": [
    "X_train, X_val, y_train, y_val = train_test_split(X_train, y_train, test_size=0.25, random_state=42)\n",
    "X_val, X_test, y_val, y_test = train_test_split(X_val, y_val, test_size=0.25, random_state=42)"
   ]
  },
  {
   "cell_type": "code",
   "execution_count": 55,
   "metadata": {},
   "outputs": [
    {
     "name": "stdout",
     "output_type": "stream",
     "text": [
      "(11967, 150)\n",
      "(2992, 150)\n",
      "(998, 150)\n"
     ]
    }
   ],
   "source": [
    "print(X_train.shape)\n",
    "print(X_val.shape)\n",
    "print(X_test.shape)"
   ]
  },
  {
   "cell_type": "markdown",
   "metadata": {},
   "source": [
    "### Fit Model:"
   ]
  },
  {
   "cell_type": "code",
   "execution_count": 56,
   "metadata": {},
   "outputs": [
    {
     "name": "stdout",
     "output_type": "stream",
     "text": [
      "Train on 11967 samples, validate on 2992 samples\n",
      "Epoch 1/10\n",
      "11967/11967 [==============================] - 137s 11ms/step - loss: 0.7911 - accuracy: 0.9622 - val_loss: 0.0680 - val_accuracy: 0.9764\n",
      "Epoch 2/10\n",
      "11967/11967 [==============================] - 140s 12ms/step - loss: 0.1943 - accuracy: 0.9789 - val_loss: 0.0669 - val_accuracy: 0.9786\n",
      "Epoch 3/10\n",
      "11967/11967 [==============================] - 144s 12ms/step - loss: 0.0600 - accuracy: 0.9798 - val_loss: 0.0580 - val_accuracy: 0.9803\n",
      "Epoch 4/10\n",
      "11967/11967 [==============================] - 142s 12ms/step - loss: 0.0549 - accuracy: 0.9809 - val_loss: 0.0553 - val_accuracy: 0.9806\n",
      "Epoch 5/10\n",
      "11967/11967 [==============================] - 142s 12ms/step - loss: 0.0642 - accuracy: 0.9810 - val_loss: 0.0546 - val_accuracy: 0.9803\n",
      "Epoch 6/10\n",
      "11967/11967 [==============================] - 143s 12ms/step - loss: 1.2479 - accuracy: 0.9814 - val_loss: 0.0557 - val_accuracy: 0.9804\n",
      "Epoch 7/10\n",
      "11967/11967 [==============================] - 143s 12ms/step - loss: 34.9888 - accuracy: 0.9810 - val_loss: 0.0751 - val_accuracy: 0.9769\n",
      "Epoch 8/10\n",
      "11967/11967 [==============================] - 142s 12ms/step - loss: 6.4819 - accuracy: 0.9789 - val_loss: 0.0683 - val_accuracy: 0.9789\n",
      "Epoch 9/10\n",
      "11967/11967 [==============================] - 151s 13ms/step - loss: 0.0603 - accuracy: 0.9802 - val_loss: 0.0632 - val_accuracy: 0.9796\n",
      "Epoch 10/10\n",
      "11967/11967 [==============================] - 145s 12ms/step - loss: 0.0584 - accuracy: 0.9809 - val_loss: 0.0603 - val_accuracy: 0.9796\n"
     ]
    }
   ],
   "source": [
    "history = model.fit(X_train, \n",
    "                    y_train, \n",
    "                    batch_size=128, \n",
    "                    epochs=10, \n",
    "                    validation_data=(X_val, y_val))"
   ]
  },
  {
   "cell_type": "code",
   "execution_count": 57,
   "metadata": {},
   "outputs": [
    {
     "data": {
      "text/html": [
       "<div>\n",
       "<style scoped>\n",
       "    .dataframe tbody tr th:only-of-type {\n",
       "        vertical-align: middle;\n",
       "    }\n",
       "\n",
       "    .dataframe tbody tr th {\n",
       "        vertical-align: top;\n",
       "    }\n",
       "\n",
       "    .dataframe thead th {\n",
       "        text-align: right;\n",
       "    }\n",
       "</style>\n",
       "<table border=\"1\" class=\"dataframe\">\n",
       "  <thead>\n",
       "    <tr style=\"text-align: right;\">\n",
       "      <th></th>\n",
       "      <th>val_loss</th>\n",
       "      <th>val_accuracy</th>\n",
       "      <th>loss</th>\n",
       "      <th>accuracy</th>\n",
       "    </tr>\n",
       "  </thead>\n",
       "  <tbody>\n",
       "    <tr>\n",
       "      <th>0</th>\n",
       "      <td>0.068027</td>\n",
       "      <td>0.976437</td>\n",
       "      <td>0.791128</td>\n",
       "      <td>0.962174</td>\n",
       "    </tr>\n",
       "    <tr>\n",
       "      <th>1</th>\n",
       "      <td>0.066914</td>\n",
       "      <td>0.978554</td>\n",
       "      <td>0.194349</td>\n",
       "      <td>0.978858</td>\n",
       "    </tr>\n",
       "    <tr>\n",
       "      <th>2</th>\n",
       "      <td>0.057966</td>\n",
       "      <td>0.980336</td>\n",
       "      <td>0.060022</td>\n",
       "      <td>0.979833</td>\n",
       "    </tr>\n",
       "  </tbody>\n",
       "</table>\n",
       "</div>"
      ],
      "text/plain": [
       "   val_loss  val_accuracy      loss  accuracy\n",
       "0  0.068027      0.976437  0.791128  0.962174\n",
       "1  0.066914      0.978554  0.194349  0.978858\n",
       "2  0.057966      0.980336  0.060022  0.979833"
      ]
     },
     "execution_count": 57,
     "metadata": {},
     "output_type": "execute_result"
    }
   ],
   "source": [
    "hist_df = pd.DataFrame(history.history)\n",
    "hist_df.head(3)"
   ]
  },
  {
   "cell_type": "markdown",
   "metadata": {},
   "source": [
    "### Visualize Results:"
   ]
  },
  {
   "cell_type": "code",
   "execution_count": 71,
   "metadata": {},
   "outputs": [
    {
     "data": {
      "image/png": "[encoded data removed]",
      "text/plain": [
       "<Figure size 432x288 with 1 Axes>"
      ]
     },
     "metadata": {},
     "output_type": "display_data"
    }
   ],
   "source": [
    "import matplotlib.pyplot as plt\n",
    "\n",
    "plt.clf()\n",
    "plt.plot(hist_df['val_accuracy'], label='Validation Accuracy')\n",
    "plt.plot(hist_df['accuracy'], label='Training Accuracy')\n",
    "plt.axvline(x = 4, linewidth=1, color='r', linestyle = \"--\")\n",
    "\n",
    "plt.title('Multilabel Classification Training and Validation')\n",
    "plt.ylabel('Value')\n",
    "plt.xlabel('Epoch')\n",
    "plt.legend(loc=\"lower right\")\n",
    "plt.show()"
   ]
  },
  {
   "cell_type": "markdown",
   "metadata": {},
   "source": [
    "### Conclusion:"
   ]
  },
  {
   "cell_type": "markdown",
   "metadata": {},
   "source": [
    "In this notebook we prepared a bidirectional LSTM to train our model to correctly classify toxic comments. We randomly sampled 10% of the original dataset in order to decrease the needed computational time. We then quickly checked our data for missing values and NaNs, and then proceeded with our embeddings. We investigated the use of multiple GLOVE pre-trained embeddings and found that the 840B was the most effective given the extent of the dataset at hand. We leave our trained model with an **accuracy of approximately 98% for both training and validation.**\n",
    "\n",
    "In the next notebook, we will take a closer look at the comparison between the different GLOVE embeddings and compared the accuracies of the training and validation datasets there."
   ]
  },
  {
   "cell_type": "code",
   "execution_count": null,
   "metadata": {},
   "outputs": [],
   "source": []
  }
 ],
 "metadata": {
  "kernelspec": {
   "display_name": "Python 3",
   "language": "python",
   "name": "python3"
  },
  "language_info": {
   "codemirror_mode": {
    "name": "ipython",
    "version": 3
   },
   "file_extension": ".py",
   "mimetype": "text/x-python",
   "name": "python",
   "nbconvert_exporter": "python",
   "pygments_lexer": "ipython3",
   "version": "3.7.3"
  }
 },
 "nbformat": 4,
 "nbformat_minor": 4
}
